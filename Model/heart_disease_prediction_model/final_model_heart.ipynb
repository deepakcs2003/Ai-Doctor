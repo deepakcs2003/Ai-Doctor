{
 "cells": [
  {
   "cell_type": "code",
   "execution_count": 1,
   "id": "a3d9aa30",
   "metadata": {},
   "outputs": [
    {
     "name": "stdout",
     "output_type": "stream",
     "text": [
      "✅ Original shape: (4240, 16)\n",
      "✅ After cleaning: (3989, 16)\n",
      "🧹 After outlier removal: (3291, 16)\n",
      "🔁 Dropped correlated features: []\n",
      "🔻 Dropped low-importance features: ['BPMeds', 'prevalentStroke', 'diabetes']\n",
      "\n",
      "🎯 Test Accuracy: 92.97%\n",
      "\n",
      "📊 Classification Report:\n",
      "               precision    recall  f1-score   support\n",
      "\n",
      "           0       0.92      0.94      0.93       568\n",
      "           1       0.94      0.92      0.93       585\n",
      "\n",
      "    accuracy                           0.93      1153\n",
      "   macro avg       0.93      0.93      0.93      1153\n",
      "weighted avg       0.93      0.93      0.93      1153\n",
      "\n",
      "📉 Confusion Matrix:\n",
      " [[535  33]\n",
      " [ 48 537]]\n",
      "\n",
      "🔁 5-Fold Cross-Validation Accuracy: 92.77% ± 1.34%\n"
     ]
    }
   ],
   "source": [
    "# %%\n",
    "import pandas as pd\n",
    "import numpy as np\n",
    "import seaborn as sns\n",
    "import matplotlib.pyplot as plt\n",
    "import pickle\n",
    "\n",
    "from sklearn.model_selection import train_test_split, cross_val_score, StratifiedKFold\n",
    "from sklearn.preprocessing import StandardScaler\n",
    "from sklearn.ensemble import RandomForestClassifier\n",
    "from sklearn.metrics import accuracy_score, classification_report, confusion_matrix\n",
    "from imblearn.over_sampling import SMOTE\n",
    "\n",
    "# %% STEP 1: LOAD DATA\n",
    "df = pd.read_csv(\"framingham.csv\")\n",
    "print(\"✅ Original shape:\", df.shape)\n",
    "\n",
    "# %% STEP 2: DATA CLEANING\n",
    "df['glucose'] = df['glucose'].fillna(df['glucose'].mean())\n",
    "df.dropna(inplace=True)\n",
    "df.drop_duplicates(inplace=True)\n",
    "print(\"✅ After cleaning:\", df.shape)\n",
    "\n",
    "# %% STEP 3: REMOVE OUTLIERS (Using IQR Method)\n",
    "def remove_outliers_iqr(data, columns):\n",
    "    for col in columns:\n",
    "        Q1 = data[col].quantile(0.25)\n",
    "        Q3 = data[col].quantile(0.75)\n",
    "        IQR = Q3 - Q1\n",
    "        lower = Q1 - 1.5 * IQR\n",
    "        upper = Q3 + 1.5 * IQR\n",
    "        data = data[(data[col] >= lower) & (data[col] <= upper)]\n",
    "    return data\n",
    "\n",
    "numeric_cols = df.select_dtypes(include=[np.number]).columns.tolist()\n",
    "numeric_cols.remove(\"TenYearCHD\")  # Don't apply to target\n",
    "df = remove_outliers_iqr(df, numeric_cols)\n",
    "print(\"🧹 After outlier removal:\", df.shape)\n",
    "\n",
    "# %% STEP 4: DROP HIGHLY CORRELATED FEATURES\n",
    "corr_matrix = df.corr().abs()\n",
    "upper = corr_matrix.where(np.triu(np.ones(corr_matrix.shape), k=1).astype(bool))\n",
    "to_drop_corr = [column for column in upper.columns if any(upper[column] > 0.80)]\n",
    "df.drop(columns=to_drop_corr, inplace=True)\n",
    "print(\"🔁 Dropped correlated features:\", to_drop_corr)\n",
    "\n",
    "# %% STEP 5: SPLIT FEATURES & TARGET\n",
    "X = df.drop(\"TenYearCHD\", axis=1)\n",
    "y = df[\"TenYearCHD\"]\n",
    "\n",
    "# %% STEP 6: DROP LOW-IMPORTANCE FEATURES\n",
    "rf_temp = RandomForestClassifier(random_state=42)\n",
    "rf_temp.fit(X, y)\n",
    "importances = pd.DataFrame({'Feature': X.columns, 'Importance': rf_temp.feature_importances_})\n",
    "low_importance = importances[importances['Importance'] < 0.01]['Feature'].tolist()\n",
    "X.drop(columns=low_importance, inplace=True)\n",
    "print(\"🔻 Dropped low-importance features:\", low_importance)\n",
    "\n",
    "# %% STEP 7: BALANCE WITH SMOTE\n",
    "sm = SMOTE(random_state=42)\n",
    "X_resampled, y_resampled = sm.fit_resample(X, y)\n",
    "\n",
    "# %% STEP 8: TRAIN-TEST SPLIT\n",
    "X_train, X_test, y_train, y_test = train_test_split(\n",
    "    X_resampled, y_resampled, test_size=0.2, random_state=42\n",
    ")\n",
    "\n",
    "# %% STEP 9: SCALING\n",
    "scaler = StandardScaler()\n",
    "X_train_scaled = scaler.fit_transform(X_train)\n",
    "X_test_scaled = scaler.transform(X_test)\n",
    "\n",
    "# %% STEP 10: MODEL TRAINING\n",
    "model = RandomForestClassifier(random_state=42)\n",
    "model.fit(X_train_scaled, y_train)\n",
    "\n",
    "# %% STEP 11: EVALUATION\n",
    "y_pred = model.predict(X_test_scaled)\n",
    "accuracy = accuracy_score(y_test, y_pred)\n",
    "print(f\"\\n🎯 Test Accuracy: {accuracy * 100:.2f}%\")\n",
    "print(\"\\n📊 Classification Report:\\n\", classification_report(y_test, y_pred))\n",
    "print(\"📉 Confusion Matrix:\\n\", confusion_matrix(y_test, y_pred))\n",
    "\n",
    "# %% STEP 12: CROSS-VALIDATION (5-Fold)\n",
    "kfold = StratifiedKFold(n_splits=5, shuffle=True, random_state=42)\n",
    "cv_scores = cross_val_score(model, StandardScaler().fit_transform(X_resampled), y_resampled, cv=kfold, scoring='accuracy')\n",
    "print(f\"\\n🔁 5-Fold Cross-Validation Accuracy: {cv_scores.mean() * 100:.2f}% ± {cv_scores.std() * 100:.2f}%\")\n",
    "\n"
   ]
  },
  {
   "cell_type": "code",
   "execution_count": 2,
   "id": "45ba73eb",
   "metadata": {},
   "outputs": [
    {
     "data": {
      "text/plain": [
       "education\n",
       "1.0    1300\n",
       "2.0    1023\n",
       "3.0     577\n",
       "4.0     391\n",
       "Name: count, dtype: int64"
      ]
     },
     "execution_count": 2,
     "metadata": {},
     "output_type": "execute_result"
    }
   ],
   "source": [
    "X['education'].value_counts()"
   ]
  },
  {
   "cell_type": "code",
   "execution_count": 3,
   "id": "9c16d3a2",
   "metadata": {},
   "outputs": [
    {
     "name": "stdout",
     "output_type": "stream",
     "text": [
      "<class 'pandas.core.frame.DataFrame'>\n",
      "Index: 3291 entries, 0 to 4239\n",
      "Data columns (total 12 columns):\n",
      " #   Column         Non-Null Count  Dtype  \n",
      "---  ------         --------------  -----  \n",
      " 0   male           3291 non-null   int64  \n",
      " 1   age            3291 non-null   int64  \n",
      " 2   education      3291 non-null   float64\n",
      " 3   currentSmoker  3291 non-null   int64  \n",
      " 4   cigsPerDay     3291 non-null   float64\n",
      " 5   prevalentHyp   3291 non-null   int64  \n",
      " 6   totChol        3291 non-null   float64\n",
      " 7   sysBP          3291 non-null   float64\n",
      " 8   diaBP          3291 non-null   float64\n",
      " 9   BMI            3291 non-null   float64\n",
      " 10  heartRate      3291 non-null   float64\n",
      " 11  glucose        3291 non-null   float64\n",
      "dtypes: float64(8), int64(4)\n",
      "memory usage: 334.2 KB\n"
     ]
    }
   ],
   "source": [
    "X.info()"
   ]
  },
  {
   "cell_type": "code",
   "execution_count": 4,
   "id": "b91b5c8c",
   "metadata": {},
   "outputs": [
    {
     "name": "stdout",
     "output_type": "stream",
     "text": [
      "Best model and scaler saved to 'heart_disease_model.pkl'\n"
     ]
    }
   ],
   "source": [
    "import pickle\n",
    "\n",
    "# Assume these variables exist\n",
    "# best_model = your trained ML model\n",
    "# best_model_name = name of the best model (optional)\n",
    "# scaler = your fitted scaler (e.g., StandardScaler or MinMaxScaler)\n",
    "\n",
    "# Create a dictionary to store both\n",
    "model_package = {\n",
    "    \"model\": model,\n",
    "    \"scaler\": scaler\n",
    "}\n",
    "\n",
    "with open('heart_disease_model.pkl', 'wb') as f:\n",
    "    pickle.dump(model_package, f)\n",
    "\n",
    "print(f\"Best model and scaler saved to 'heart_disease_model.pkl'\")\n"
   ]
  },
  {
   "cell_type": "code",
   "execution_count": null,
   "id": "2bb2821a",
   "metadata": {},
   "outputs": [],
   "source": []
  }
 ],
 "metadata": {
  "kernelspec": {
   "display_name": "Python 3",
   "language": "python",
   "name": "python3"
  },
  "language_info": {
   "codemirror_mode": {
    "name": "ipython",
    "version": 3
   },
   "file_extension": ".py",
   "mimetype": "text/x-python",
   "name": "python",
   "nbconvert_exporter": "python",
   "pygments_lexer": "ipython3",
   "version": "3.12.3"
  }
 },
 "nbformat": 4,
 "nbformat_minor": 5
}
